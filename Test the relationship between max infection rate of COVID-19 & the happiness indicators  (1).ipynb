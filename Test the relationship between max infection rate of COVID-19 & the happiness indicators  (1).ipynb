{
 "cells": [
  {
   "cell_type": "code",
   "execution_count": 3,
   "metadata": {},
   "outputs": [],
   "source": [
    "import pandas as pd\n",
    "import numpy as np \n",
    "import seaborn as sns\n",
    "import matplotlib.pyplot as plt"
   ]
  },
  {
   "cell_type": "code",
   "execution_count": 5,
   "metadata": {},
   "outputs": [],
   "source": [
    "covid19_confirmed_cases = pd.read_csv('Downloads\\COVID19_df.csv')"
   ]
  },
  {
   "cell_type": "code",
   "execution_count": 13,
   "metadata": {},
   "outputs": [],
   "source": [
    "happiness_report = pd.read_csv('Downloads/happiness_report.csv')"
   ]
  },
  {
   "cell_type": "code",
   "execution_count": 14,
   "metadata": {},
   "outputs": [
    {
     "data": {
      "text/plain": [
       "(187, 2)"
      ]
     },
     "execution_count": 14,
     "metadata": {},
     "output_type": "execute_result"
    }
   ],
   "source": [
    "covid19_confirmed_cases.shape"
   ]
  },
  {
   "cell_type": "code",
   "execution_count": 24,
   "metadata": {},
   "outputs": [
    {
     "data": {
      "text/html": [
       "<div>\n",
       "<style scoped>\n",
       "    .dataframe tbody tr th:only-of-type {\n",
       "        vertical-align: middle;\n",
       "    }\n",
       "\n",
       "    .dataframe tbody tr th {\n",
       "        vertical-align: top;\n",
       "    }\n",
       "\n",
       "    .dataframe thead th {\n",
       "        text-align: right;\n",
       "    }\n",
       "</style>\n",
       "<table border=\"1\" class=\"dataframe\">\n",
       "  <thead>\n",
       "    <tr style=\"text-align: right;\">\n",
       "      <th></th>\n",
       "      <th>Country/Region</th>\n",
       "      <th>max infection rate</th>\n",
       "    </tr>\n",
       "  </thead>\n",
       "  <tbody>\n",
       "    <tr>\n",
       "      <th>0</th>\n",
       "      <td>Afghanistan</td>\n",
       "      <td>232.0</td>\n",
       "    </tr>\n",
       "    <tr>\n",
       "      <th>1</th>\n",
       "      <td>Albania</td>\n",
       "      <td>34.0</td>\n",
       "    </tr>\n",
       "    <tr>\n",
       "      <th>2</th>\n",
       "      <td>Algeria</td>\n",
       "      <td>199.0</td>\n",
       "    </tr>\n",
       "    <tr>\n",
       "      <th>3</th>\n",
       "      <td>Andorra</td>\n",
       "      <td>43.0</td>\n",
       "    </tr>\n",
       "    <tr>\n",
       "      <th>4</th>\n",
       "      <td>Angola</td>\n",
       "      <td>5.0</td>\n",
       "    </tr>\n",
       "  </tbody>\n",
       "</table>\n",
       "</div>"
      ],
      "text/plain": [
       "  Country/Region  max infection rate\n",
       "0    Afghanistan               232.0\n",
       "1        Albania                34.0\n",
       "2        Algeria               199.0\n",
       "3        Andorra                43.0\n",
       "4         Angola                 5.0"
      ]
     },
     "execution_count": 24,
     "metadata": {},
     "output_type": "execute_result"
    }
   ],
   "source": [
    "covid19_confirmed_cases.head()"
   ]
  },
  {
   "cell_type": "code",
   "execution_count": 26,
   "metadata": {},
   "outputs": [],
   "source": [
    "covid19_confirmed_cases.set_index('Country/Region', inplace=True)"
   ]
  },
  {
   "cell_type": "code",
   "execution_count": 28,
   "metadata": {},
   "outputs": [
    {
     "data": {
      "text/plain": [
       "(187, 1)"
      ]
     },
     "execution_count": 28,
     "metadata": {},
     "output_type": "execute_result"
    }
   ],
   "source": [
    "covid19_confirmed_cases.shape"
   ]
  },
  {
   "cell_type": "code",
   "execution_count": 15,
   "metadata": {},
   "outputs": [
    {
     "data": {
      "text/plain": [
       "(156, 5)"
      ]
     },
     "execution_count": 15,
     "metadata": {},
     "output_type": "execute_result"
    }
   ],
   "source": [
    "happiness_report.shape"
   ]
  },
  {
   "cell_type": "code",
   "execution_count": 29,
   "metadata": {},
   "outputs": [
    {
     "data": {
      "text/html": [
       "<div>\n",
       "<style scoped>\n",
       "    .dataframe tbody tr th:only-of-type {\n",
       "        vertical-align: middle;\n",
       "    }\n",
       "\n",
       "    .dataframe tbody tr th {\n",
       "        vertical-align: top;\n",
       "    }\n",
       "\n",
       "    .dataframe thead th {\n",
       "        text-align: right;\n",
       "    }\n",
       "</style>\n",
       "<table border=\"1\" class=\"dataframe\">\n",
       "  <thead>\n",
       "    <tr style=\"text-align: right;\">\n",
       "      <th></th>\n",
       "      <th>Country or region</th>\n",
       "      <th>GDP per capita</th>\n",
       "      <th>Social support</th>\n",
       "      <th>Healthy life expectancy</th>\n",
       "      <th>Freedom to make life choices</th>\n",
       "    </tr>\n",
       "  </thead>\n",
       "  <tbody>\n",
       "    <tr>\n",
       "      <th>0</th>\n",
       "      <td>Finland</td>\n",
       "      <td>1.340</td>\n",
       "      <td>1.587</td>\n",
       "      <td>0.986</td>\n",
       "      <td>0.596</td>\n",
       "    </tr>\n",
       "    <tr>\n",
       "      <th>1</th>\n",
       "      <td>Denmark</td>\n",
       "      <td>1.383</td>\n",
       "      <td>1.573</td>\n",
       "      <td>0.996</td>\n",
       "      <td>0.592</td>\n",
       "    </tr>\n",
       "    <tr>\n",
       "      <th>2</th>\n",
       "      <td>Norway</td>\n",
       "      <td>1.488</td>\n",
       "      <td>1.582</td>\n",
       "      <td>1.028</td>\n",
       "      <td>0.603</td>\n",
       "    </tr>\n",
       "    <tr>\n",
       "      <th>3</th>\n",
       "      <td>Iceland</td>\n",
       "      <td>1.380</td>\n",
       "      <td>1.624</td>\n",
       "      <td>1.026</td>\n",
       "      <td>0.591</td>\n",
       "    </tr>\n",
       "    <tr>\n",
       "      <th>4</th>\n",
       "      <td>Netherlands</td>\n",
       "      <td>1.396</td>\n",
       "      <td>1.522</td>\n",
       "      <td>0.999</td>\n",
       "      <td>0.557</td>\n",
       "    </tr>\n",
       "  </tbody>\n",
       "</table>\n",
       "</div>"
      ],
      "text/plain": [
       "  Country or region  GDP per capita  Social support  Healthy life expectancy  \\\n",
       "0           Finland           1.340           1.587                    0.986   \n",
       "1           Denmark           1.383           1.573                    0.996   \n",
       "2            Norway           1.488           1.582                    1.028   \n",
       "3           Iceland           1.380           1.624                    1.026   \n",
       "4       Netherlands           1.396           1.522                    0.999   \n",
       "\n",
       "   Freedom to make life choices  \n",
       "0                         0.596  \n",
       "1                         0.592  \n",
       "2                         0.603  \n",
       "3                         0.591  \n",
       "4                         0.557  "
      ]
     },
     "execution_count": 29,
     "metadata": {},
     "output_type": "execute_result"
    }
   ],
   "source": [
    "happiness_report.head()"
   ]
  },
  {
   "cell_type": "code",
   "execution_count": 30,
   "metadata": {},
   "outputs": [],
   "source": [
    "happiness_report.set_index('Country or region', inplace=True)"
   ]
  },
  {
   "cell_type": "code",
   "execution_count": 31,
   "metadata": {},
   "outputs": [
    {
     "data": {
      "text/plain": [
       "(156, 4)"
      ]
     },
     "execution_count": 31,
     "metadata": {},
     "output_type": "execute_result"
    }
   ],
   "source": [
    "happiness_report.shape"
   ]
  },
  {
   "cell_type": "code",
   "execution_count": 33,
   "metadata": {},
   "outputs": [],
   "source": [
    "data = covid19_confirmed_cases.join(happiness_report, how='inner')"
   ]
  },
  {
   "cell_type": "code",
   "execution_count": 34,
   "metadata": {},
   "outputs": [
    {
     "data": {
      "text/html": [
       "<div>\n",
       "<style scoped>\n",
       "    .dataframe tbody tr th:only-of-type {\n",
       "        vertical-align: middle;\n",
       "    }\n",
       "\n",
       "    .dataframe tbody tr th {\n",
       "        vertical-align: top;\n",
       "    }\n",
       "\n",
       "    .dataframe thead th {\n",
       "        text-align: right;\n",
       "    }\n",
       "</style>\n",
       "<table border=\"1\" class=\"dataframe\">\n",
       "  <thead>\n",
       "    <tr style=\"text-align: right;\">\n",
       "      <th></th>\n",
       "      <th>max infection rate</th>\n",
       "      <th>GDP per capita</th>\n",
       "      <th>Social support</th>\n",
       "      <th>Healthy life expectancy</th>\n",
       "      <th>Freedom to make life choices</th>\n",
       "    </tr>\n",
       "  </thead>\n",
       "  <tbody>\n",
       "    <tr>\n",
       "      <th>Afghanistan</th>\n",
       "      <td>232.0</td>\n",
       "      <td>0.350</td>\n",
       "      <td>0.517</td>\n",
       "      <td>0.361</td>\n",
       "      <td>0.000</td>\n",
       "    </tr>\n",
       "    <tr>\n",
       "      <th>Albania</th>\n",
       "      <td>34.0</td>\n",
       "      <td>0.947</td>\n",
       "      <td>0.848</td>\n",
       "      <td>0.874</td>\n",
       "      <td>0.383</td>\n",
       "    </tr>\n",
       "    <tr>\n",
       "      <th>Algeria</th>\n",
       "      <td>199.0</td>\n",
       "      <td>1.002</td>\n",
       "      <td>1.160</td>\n",
       "      <td>0.785</td>\n",
       "      <td>0.086</td>\n",
       "    </tr>\n",
       "    <tr>\n",
       "      <th>Argentina</th>\n",
       "      <td>291.0</td>\n",
       "      <td>1.092</td>\n",
       "      <td>1.432</td>\n",
       "      <td>0.881</td>\n",
       "      <td>0.471</td>\n",
       "    </tr>\n",
       "    <tr>\n",
       "      <th>Armenia</th>\n",
       "      <td>134.0</td>\n",
       "      <td>0.850</td>\n",
       "      <td>1.055</td>\n",
       "      <td>0.815</td>\n",
       "      <td>0.283</td>\n",
       "    </tr>\n",
       "    <tr>\n",
       "      <th>Australia</th>\n",
       "      <td>497.0</td>\n",
       "      <td>1.372</td>\n",
       "      <td>1.548</td>\n",
       "      <td>1.036</td>\n",
       "      <td>0.557</td>\n",
       "    </tr>\n",
       "    <tr>\n",
       "      <th>Austria</th>\n",
       "      <td>1321.0</td>\n",
       "      <td>1.376</td>\n",
       "      <td>1.475</td>\n",
       "      <td>1.016</td>\n",
       "      <td>0.532</td>\n",
       "    </tr>\n",
       "    <tr>\n",
       "      <th>Azerbaijan</th>\n",
       "      <td>105.0</td>\n",
       "      <td>1.043</td>\n",
       "      <td>1.147</td>\n",
       "      <td>0.769</td>\n",
       "      <td>0.351</td>\n",
       "    </tr>\n",
       "    <tr>\n",
       "      <th>Bahrain</th>\n",
       "      <td>301.0</td>\n",
       "      <td>1.362</td>\n",
       "      <td>1.368</td>\n",
       "      <td>0.871</td>\n",
       "      <td>0.536</td>\n",
       "    </tr>\n",
       "    <tr>\n",
       "      <th>Bangladesh</th>\n",
       "      <td>641.0</td>\n",
       "      <td>0.562</td>\n",
       "      <td>0.928</td>\n",
       "      <td>0.723</td>\n",
       "      <td>0.527</td>\n",
       "    </tr>\n",
       "  </tbody>\n",
       "</table>\n",
       "</div>"
      ],
      "text/plain": [
       "             max infection rate  GDP per capita  Social support  \\\n",
       "Afghanistan               232.0           0.350           0.517   \n",
       "Albania                    34.0           0.947           0.848   \n",
       "Algeria                   199.0           1.002           1.160   \n",
       "Argentina                 291.0           1.092           1.432   \n",
       "Armenia                   134.0           0.850           1.055   \n",
       "Australia                 497.0           1.372           1.548   \n",
       "Austria                  1321.0           1.376           1.475   \n",
       "Azerbaijan                105.0           1.043           1.147   \n",
       "Bahrain                   301.0           1.362           1.368   \n",
       "Bangladesh                641.0           0.562           0.928   \n",
       "\n",
       "             Healthy life expectancy  Freedom to make life choices  \n",
       "Afghanistan                    0.361                         0.000  \n",
       "Albania                        0.874                         0.383  \n",
       "Algeria                        0.785                         0.086  \n",
       "Argentina                      0.881                         0.471  \n",
       "Armenia                        0.815                         0.283  \n",
       "Australia                      1.036                         0.557  \n",
       "Austria                        1.016                         0.532  \n",
       "Azerbaijan                     0.769                         0.351  \n",
       "Bahrain                        0.871                         0.536  \n",
       "Bangladesh                     0.723                         0.527  "
      ]
     },
     "execution_count": 34,
     "metadata": {},
     "output_type": "execute_result"
    }
   ],
   "source": [
    "data.head(10)"
   ]
  },
  {
   "cell_type": "code",
   "execution_count": 35,
   "metadata": {},
   "outputs": [
    {
     "data": {
      "text/html": [
       "<div>\n",
       "<style scoped>\n",
       "    .dataframe tbody tr th:only-of-type {\n",
       "        vertical-align: middle;\n",
       "    }\n",
       "\n",
       "    .dataframe tbody tr th {\n",
       "        vertical-align: top;\n",
       "    }\n",
       "\n",
       "    .dataframe thead th {\n",
       "        text-align: right;\n",
       "    }\n",
       "</style>\n",
       "<table border=\"1\" class=\"dataframe\">\n",
       "  <thead>\n",
       "    <tr style=\"text-align: right;\">\n",
       "      <th></th>\n",
       "      <th>max infection rate</th>\n",
       "      <th>GDP per capita</th>\n",
       "      <th>Social support</th>\n",
       "      <th>Healthy life expectancy</th>\n",
       "      <th>Freedom to make life choices</th>\n",
       "    </tr>\n",
       "  </thead>\n",
       "  <tbody>\n",
       "    <tr>\n",
       "      <th>max infection rate</th>\n",
       "      <td>1.000000</td>\n",
       "      <td>0.250118</td>\n",
       "      <td>0.191958</td>\n",
       "      <td>0.289263</td>\n",
       "      <td>0.078196</td>\n",
       "    </tr>\n",
       "    <tr>\n",
       "      <th>GDP per capita</th>\n",
       "      <td>0.250118</td>\n",
       "      <td>1.000000</td>\n",
       "      <td>0.759468</td>\n",
       "      <td>0.863062</td>\n",
       "      <td>0.394603</td>\n",
       "    </tr>\n",
       "    <tr>\n",
       "      <th>Social support</th>\n",
       "      <td>0.191958</td>\n",
       "      <td>0.759468</td>\n",
       "      <td>1.000000</td>\n",
       "      <td>0.765286</td>\n",
       "      <td>0.456246</td>\n",
       "    </tr>\n",
       "    <tr>\n",
       "      <th>Healthy life expectancy</th>\n",
       "      <td>0.289263</td>\n",
       "      <td>0.863062</td>\n",
       "      <td>0.765286</td>\n",
       "      <td>1.000000</td>\n",
       "      <td>0.427892</td>\n",
       "    </tr>\n",
       "    <tr>\n",
       "      <th>Freedom to make life choices</th>\n",
       "      <td>0.078196</td>\n",
       "      <td>0.394603</td>\n",
       "      <td>0.456246</td>\n",
       "      <td>0.427892</td>\n",
       "      <td>1.000000</td>\n",
       "    </tr>\n",
       "  </tbody>\n",
       "</table>\n",
       "</div>"
      ],
      "text/plain": [
       "                              max infection rate  GDP per capita  \\\n",
       "max infection rate                      1.000000        0.250118   \n",
       "GDP per capita                          0.250118        1.000000   \n",
       "Social support                          0.191958        0.759468   \n",
       "Healthy life expectancy                 0.289263        0.863062   \n",
       "Freedom to make life choices            0.078196        0.394603   \n",
       "\n",
       "                              Social support  Healthy life expectancy  \\\n",
       "max infection rate                  0.191958                 0.289263   \n",
       "GDP per capita                      0.759468                 0.863062   \n",
       "Social support                      1.000000                 0.765286   \n",
       "Healthy life expectancy             0.765286                 1.000000   \n",
       "Freedom to make life choices        0.456246                 0.427892   \n",
       "\n",
       "                              Freedom to make life choices  \n",
       "max infection rate                                0.078196  \n",
       "GDP per capita                                    0.394603  \n",
       "Social support                                    0.456246  \n",
       "Healthy life expectancy                           0.427892  \n",
       "Freedom to make life choices                      1.000000  "
      ]
     },
     "execution_count": 35,
     "metadata": {},
     "output_type": "execute_result"
    }
   ],
   "source": [
    "data.corr()"
   ]
  },
  {
   "cell_type": "code",
   "execution_count": 41,
   "metadata": {},
   "outputs": [],
   "source": [
    "y = np.log(data['max infection rate'])\n",
    "GDP = data['GDP per capita']\n",
    "Social_support = data['Social support']\n",
    "healthy_life_expectancy = data['Healthy life expectancy']\n",
    "Freedom_of_choices = data['Freedom to make life choices']"
   ]
  },
  {
   "cell_type": "code",
   "execution_count": 43,
   "metadata": {},
   "outputs": [
    {
     "data": {
      "text/plain": [
       "Text(0.5, 1.0, 'Correlation between max infection rate and GDP')"
      ]
     },
     "execution_count": 43,
     "metadata": {},
     "output_type": "execute_result"
    },
    {
     "data": {
      "image/png": "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\n",
      "text/plain": [
       "<Figure size 432x288 with 1 Axes>"
      ]
     },
     "metadata": {
      "needs_background": "light"
     },
     "output_type": "display_data"
    }
   ],
   "source": [
    "sns.regplot(GDP, y)\n",
    "plt.title('Correlation between max infection rate and GDP')"
   ]
  },
  {
   "cell_type": "code",
   "execution_count": 48,
   "metadata": {},
   "outputs": [],
   "source": [
    "from scipy import stats"
   ]
  },
  {
   "cell_type": "code",
   "execution_count": 53,
   "metadata": {},
   "outputs": [
    {
     "name": "stdout",
     "output_type": "stream",
     "text": [
      "The Pearson Correlation Coefficient is 0.5877934046059671 with a P-value of P = 1.1839643617609705e-14\n"
     ]
    }
   ],
   "source": [
    "pearson_coef, p_value = stats.pearsonr(GDP, data["max infection rate"])\n",
    "print('The Pearson Correlation Coefficient is', pearson_coef, 'with a P-value of P =', p_value)"
   ]
  },
  {
   "cell_type": "code",
   "execution_count": 44,
   "metadata": {},
   "outputs": [
    {
     "data": {
      "text/plain": [
       "Text(0.5, 1.0, 'Correlation between max infection rate and Social Support')"
      ]
     },
     "execution_count": 44,
     "metadata": {},
     "output_type": "execute_result"
    },
    {
     "data": {
      "image/png": "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\n",
      "text/plain": [
       "<Figure size 432x288 with 1 Axes>"
      ]
     },
     "metadata": {
      "needs_background": "light"
     },
     "output_type": "display_data"
    }
   ],
   "source": [
    "sns.regplot(Social_support, y)\n",
    "plt.title('Correlation between max infection rate and Social Support')"
   ]
  },
  {
   "cell_type": "code",
   "execution_count": 45,
   "metadata": {},
   "outputs": [
    {
     "data": {
      "text/plain": [
       "Text(0.5, 1.0, 'Correlation between max infection rate and Healthy life expectancy')"
      ]
     },
     "execution_count": 45,
     "metadata": {},
     "output_type": "execute_result"
    },
    {
     "data": {
      "image/png": "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\n",
      "text/plain": [
       "<Figure size 432x288 with 1 Axes>"
      ]
     },
     "metadata": {
      "needs_background": "light"
     },
     "output_type": "display_data"
    }
   ],
   "source": [
    "sns.regplot(healthy_life_expectancy, y)\n",
    "plt.title('Correlation between max infection rate and Healthy life expectancy')"
   ]
  },
  {
   "cell_type": "code",
   "execution_count": 46,
   "metadata": {},
   "outputs": [
    {
     "data": {
      "text/plain": [
       "Text(0.5, 1.0, 'Correlation between max infection rate and Freedom to make life choices')"
      ]
     },
     "execution_count": 46,
     "metadata": {},
     "output_type": "execute_result"
    },
    {
     "data": {
      "image/png": "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\n",
      "text/plain": [
       "<Figure size 432x288 with 1 Axes>"
      ]
     },
     "metadata": {
      "needs_background": "light"
     },
     "output_type": "display_data"
    }
   ],
   "source": [
    "sns.regplot(Freedom_of_choices, y)\n",
    "plt.title('Correlation between max infection rate and Freedom to make life choices')"
   ]
  },
  {
   "cell_type": "code",
   "execution_count": 47,
   "metadata": {},
   "outputs": [],
   "source": [
    "''''according to the analysis, there is a significant positive correlation between the GDP of the country & the max infection\n",
    "(independent variable) rate (dependent variable), so we can state that the developed countries are at higher risk of getting\n",
    "COVID-19 infection than the developing countries'''' "
   ]
  },
  {
   "cell_type": "code",
   "execution_count": 55,
   "metadata": {},
   "outputs": [],
   "source": [
    "data.to_csv('Downloads\\COVID19_Confirmed_cases&happiness_report.csv')"
   ]
  },
  {
   "cell_type": "code",
   "execution_count": null,
   "metadata": {},
   "outputs": [],
   "source": []
  }
 ],
 "metadata": {
  "kernelspec": {
   "display_name": "Python 3",
   "language": "python",
   "name": "python3"
  },
  "language_info": {
   "codemirror_mode": {
    "name": "ipython",
    "version": 3
   },
   "file_extension": ".py",
   "mimetype": "text/x-python",
   "name": "python",
   "nbconvert_exporter": "python",
   "pygments_lexer": "ipython3",
   "version": "3.8.3"
  }
 },
 "nbformat": 4,
 "nbformat_minor": 4
}
